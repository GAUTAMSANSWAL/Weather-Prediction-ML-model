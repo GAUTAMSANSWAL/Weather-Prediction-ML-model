{
 "cells": [
  {
   "cell_type": "code",
   "execution_count": 1,
   "id": "29a6e730",
   "metadata": {},
   "outputs": [
    {
     "name": "stdout",
     "output_type": "stream",
     "text": [
      "(3192, 9)\n",
      "Index(['dt', 'LandAverageTemperature', 'LandAverageTemperatureUncertainty',\n",
      "       'LandMaxTemperature', 'LandMaxTemperatureUncertainty',\n",
      "       'LandMinTemperature', 'LandMinTemperatureUncertainty',\n",
      "       'LandAndOceanAverageTemperature',\n",
      "       'LandAndOceanAverageTemperatureUncertainty'],\n",
      "      dtype='object')\n",
      "<class 'pandas.core.frame.DataFrame'>\n",
      "RangeIndex: 3192 entries, 0 to 3191\n",
      "Data columns (total 9 columns):\n",
      " #   Column                                     Non-Null Count  Dtype  \n",
      "---  ------                                     --------------  -----  \n",
      " 0   dt                                         3192 non-null   object \n",
      " 1   LandAverageTemperature                     3180 non-null   float64\n",
      " 2   LandAverageTemperatureUncertainty          3180 non-null   float64\n",
      " 3   LandMaxTemperature                         1992 non-null   float64\n",
      " 4   LandMaxTemperatureUncertainty              1992 non-null   float64\n",
      " 5   LandMinTemperature                         1992 non-null   float64\n",
      " 6   LandMinTemperatureUncertainty              1992 non-null   float64\n",
      " 7   LandAndOceanAverageTemperature             1992 non-null   float64\n",
      " 8   LandAndOceanAverageTemperatureUncertainty  1992 non-null   float64\n",
      "dtypes: float64(8), object(1)\n",
      "memory usage: 224.6+ KB\n",
      "None\n",
      "dt                                              0\n",
      "LandAverageTemperature                         12\n",
      "LandAverageTemperatureUncertainty              12\n",
      "LandMaxTemperature                           1200\n",
      "LandMaxTemperatureUncertainty                1200\n",
      "LandMinTemperature                           1200\n",
      "LandMinTemperatureUncertainty                1200\n",
      "LandAndOceanAverageTemperature               1200\n",
      "LandAndOceanAverageTemperatureUncertainty    1200\n",
      "dtype: int64\n"
     ]
    }
   ],
   "source": [
    "import pandas as pd\n",
    "global_temp = pd.read_csv(\"GlobalTemperatures.csv\")\n",
    "print(global_temp.shape)\n",
    "print(global_temp.columns)\n",
    "print(global_temp.info())\n",
    "print(global_temp.isnull().sum())"
   ]
  },
  {
   "cell_type": "code",
   "execution_count": null,
   "id": "5e720fcb",
   "metadata": {},
   "outputs": [],
   "source": [
    "# Data Preparation\n",
    "\n",
    "def wrangle(df):\n",
    "    df = df.copy()\n",
    "    df = df.drop(columns=[\"LandAverageTemperatureUncertainty\", \"LandMaxTemperatureUncertainty\", \"LandMinTemperatureUncertainty\", \"LandAndOceanAverageTemperatureUncertainty\"], axis=1)"
   ]
  },
  {
   "cell_type": "code",
   "execution_count": 5,
   "id": "55d86dd8",
   "metadata": {},
   "outputs": [
    {
     "ename": "AttributeError",
     "evalue": "'NoneType' object has no attribute 'head'",
     "output_type": "error",
     "traceback": [
      "\u001b[1;31m---------------------------------------------------------------------------\u001b[0m",
      "\u001b[1;31mAttributeError\u001b[0m                            Traceback (most recent call last)",
      "Cell \u001b[1;32mIn[5], line 24\u001b[0m\n\u001b[0;32m     21\u001b[0m     \u001b[38;5;28;01mreturn\u001b[39;00m df\n\u001b[0;32m     23\u001b[0m global_temp \u001b[38;5;241m=\u001b[39m wrangle(global_temp)\n\u001b[1;32m---> 24\u001b[0m \u001b[38;5;28mprint\u001b[39m(\u001b[43mglobal_temp\u001b[49m\u001b[38;5;241;43m.\u001b[39;49m\u001b[43mhead\u001b[49m())\n",
      "\u001b[1;31mAttributeError\u001b[0m: 'NoneType' object has no attribute 'head'"
     ]
    }
   ],
   "source": [
    "# We want to make a copy of the dataframe to avoid modifying the original data. After that, i'll remove the columns that have high cardinality.\n",
    "\n",
    "# Now i'll create a function to convert temperature, and to convert the columns into DateTime object:\n",
    "\n",
    "def converttemp(x):\n",
    "    x = (x*1.8) + 32\n",
    "    return float(x)\n",
    "\n",
    "    df[\"LandAverageTemperature\"] = df[\"LandAverageTemperature\"].apply(converttemp)\n",
    "    df[\"LandMaxTemperature\"] = df[\"LandMaxTemperature\"].apply(converttemp)\n",
    "    df[\"LandMinTemperature\"] = df[\"LandMinTemperature\"].apply(converttemp)\n",
    "    df[\"LandAndOceanAverageTemperature\"] = df[\"LandAndOceanAverageTemperature\"].apply(converttemp)\n",
    "    df[\"dt\"] = pd.to_datetime(df[\"dt\"])\n",
    "    df[\"Month\"] = df[\"dt\"].dt.month\n",
    "    df[\"Year\"] = df[\"dt\"].dt.year\n",
    "    df = df.drop(\"dt\", axis=1)\n",
    "    df = df.drop(\"Month\", axis=1)\n",
    "    df = df[df.Year >= 1850]\n",
    "    df = df.set_index([\"Year\"])\n",
    "    df = df.dropna()\n",
    "    return df\n",
    "\n",
    "global_temp = wrangle(global_temp)\n",
    "print(global_temp.head())"
   ]
  },
  {
   "cell_type": "code",
   "execution_count": null,
   "id": "cf2fdce1",
   "metadata": {},
   "outputs": [],
   "source": [
    "# I love kashvi"
   ]
  }
 ],
 "metadata": {
  "kernelspec": {
   "display_name": "base",
   "language": "python",
   "name": "python3"
  },
  "language_info": {
   "codemirror_mode": {
    "name": "ipython",
    "version": 3
   },
   "file_extension": ".py",
   "mimetype": "text/x-python",
   "name": "python",
   "nbconvert_exporter": "python",
   "pygments_lexer": "ipython3",
   "version": "3.12.7"
  }
 },
 "nbformat": 4,
 "nbformat_minor": 5
}
